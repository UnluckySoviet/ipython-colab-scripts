{
  "nbformat": 4,
  "nbformat_minor": 0,
  "metadata": {
    "colab": {
      "name": "Torrent To Google Drive Downloader",
      "version": "0.3.2",
      "provenance": [],
      "collapsed_sections": [],
      "include_colab_link": true
    },
    "kernelspec": {
      "display_name": "Python 3",
      "language": "python",
      "name": "python3"
    }
  },
  "cells": [
    {
      "cell_type": "markdown",
      "metadata": {
        "id": "view-in-github",
        "colab_type": "text"
      },
      "source": [
        "<a href=\"https://colab.research.google.com/github/FKLC/Torrent-To-Google-Drive-Downloader/blob/master/Torrent_To_Google_Drive_Downloader.ipynb\" target=\"_parent\"><img src=\"https://colab.research.google.com/assets/colab-badge.svg\" alt=\"Open In Colab\"/></a>"
      ]
    },
    {
      "metadata": {
        "id": "aQuWDmfm9YOi",
        "colab_type": "text"
      },
      "cell_type": "markdown",
      "source": [
        "# Torrent To Google Drive Downloader "
      ]
    },
    {
      "metadata": {
        "id": "Uf90U73y9YOj",
        "colab_type": "text"
      },
      "cell_type": "markdown",
      "source": [
        "### Mount Google Drive\n",
        "To stream files we need to mount Google Drive."
      ]
    },
    {
      "metadata": {
        "colab_type": "code",
        "id": "oWM9l2fvtuvO",
        "colab": {}
      },
      "cell_type": "code",
      "source": [
        "from google.colab import drive\n",
        "drive.mount('/content/drive')"
      ],
      "execution_count": 0,
      "outputs": []
    },
    {
      "metadata": {
        "id": "R_1XuuIf9YOn",
        "colab_type": "text"
      },
      "cell_type": "markdown",
      "source": [
        "### Upload Your Torrent File"
      ]
    },
    {
      "metadata": {
        "colab_type": "code",
        "id": "0et2A6N3udA0",
        "colab": {}
      },
      "cell_type": "code",
      "source": [
        "from google.colab import files\n",
        "uploaded = files.upload()"
      ],
      "execution_count": 0,
      "outputs": []
    },
    {
      "metadata": {
        "id": "NaFa7M-e9YOr",
        "colab_type": "text"
      },
      "cell_type": "markdown",
      "source": [
        "### Install libtorrent"
      ]
    },
    {
      "metadata": {
        "colab_type": "code",
        "id": "m6hF0emftx4h",
        "colab": {}
      },
      "cell_type": "code",
      "source": [
        "!apt install python3-libtorrent"
      ],
      "execution_count": 0,
      "outputs": []
    },
    {
      "metadata": {
        "id": "m-a1CUP39YOu",
        "colab_type": "text"
      },
      "cell_type": "markdown",
      "source": [
        "### Start Download\n",
        "Source: https://stackoverflow.com/a/5494823/7957705"
      ]
    },
    {
      "metadata": {
        "colab_type": "code",
        "id": "DBNoYYoSuDBT",
        "colab": {}
      },
      "cell_type": "code",
      "source": [
        "import libtorrent as lt\n",
        "import time\n",
        "import sys\n",
        "\n",
        "ses = lt.session()\n",
        "ses.listen_on(6881, 6891)\n",
        "\n",
        "info = lt.torrent_info(list(uploaded.keys())[0])\n",
        "h = ses.add_torrent({\"ti\": info, \"save_path\": \"/content/drive/My Drive/Torrent\"})\n",
        "print(\"starting\", h.name())\n",
        "\n",
        "while not h.is_seed():\n",
        "    s = h.status()\n",
        "\n",
        "    state_str = [\n",
        "        \"queued\",\n",
        "        \"checking\",\n",
        "        \"downloading metadata\",\n",
        "        \"downloading\",\n",
        "        \"finished\",\n",
        "        \"seeding\",\n",
        "        \"allocating\",\n",
        "        \"checking fastresume\",\n",
        "    ]\n",
        "    print(\n",
        "        \"\\r%.2f%% complete (down: %.1f kb/s up: %.1f kB/s peers: %d) %s\"\n",
        "        % (\n",
        "            s.progress * 100,\n",
        "            s.download_rate / 1000,\n",
        "            s.upload_rate / 1000,\n",
        "            s.num_peers,\n",
        "            state_str[s.state],\n",
        "        )\n",
        "    )\n",
        "    sys.stdout.flush()\n",
        "    time.sleep(1)\n",
        "\n",
        "print(h.name(), \"complete\")"
      ],
      "execution_count": 0,
      "outputs": []
    }
  ]
}