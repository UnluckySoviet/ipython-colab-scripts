{
  "nbformat": 4,
  "nbformat_minor": 0,
  "metadata": {
    "colab": {
      "name": "Zippy to Wget",
      "version": "0.3.2",
      "provenance": [],
      "collapsed_sections": []
    },
    "kernelspec": {
      "display_name": "Python 3",
      "language": "python",
      "name": "python3"
    }
  },
  "cells": [
    {
      "cell_type": "markdown",
      "metadata": {
        "id": "S-EDyLwRuWYY",
        "colab_type": "text"
      },
      "source": [
        "# **Google Drive DDL**"
      ]
    },
    {
      "cell_type": "markdown",
      "metadata": {
        "id": "UycAevCnuoS_",
        "colab_type": "text"
      },
      "source": [
        "**Mount Google Drive**"
      ]
    },
    {
      "cell_type": "code",
      "metadata": {
        "id": "Y-BEfGeJobDR",
        "colab_type": "code",
        "colab": {
          "base_uri": "https://localhost:8080/",
          "height": 34
        },
        "outputId": "9247060a-0175-4907-c5e9-bb38e8a291ae",
        "executionInfo": {
          "status": "ok",
          "timestamp": 1561820545230,
          "user_tz": -330,
          "elapsed": 1642,
          "user": {
            "displayName": "Jennifer Gilbert",
            "photoUrl": "",
            "userId": "08382463549400813260"
          }
        }
      },
      "source": [
        "from google.colab import drive\n",
        "drive.mount('/content/drive')"
      ],
      "execution_count": 0,
      "outputs": []
    },
    {
      "cell_type": "markdown",
      "metadata": {
        "id": "99YeGQUxuy74",
        "colab_type": "text"
      },
      "source": [
        "**Enter wget links with an '!'**"
      ]
    },
    {
      "cell_type": "code",
      "metadata": {
        "id": "h70uYAYwu3t-",
        "colab_type": "code",
        "colab": {}
      },
      "source": [
        "# for example\n",
        "\n",
        "# !wget https://www28.zippyshare.com/d/fZzb0BST/9114/Dunkirk%202017%202160p%20ITA%20UHD%20Blu-ray%20HEVC%20DTS-HD%20MA%205.1-LKS.part001.rar --referer='https://www28.zippyshare.com/v/fZzb0BST/file.html' --cookies=off --header \"Cookie: JSESSIONID=BB3497E517169A9585041ACBE66B9528\" --user-agent='Mozilla/5.0 (Windows NT 6.0) Gecko/20100101 Firefox/14.0.1'"
      ],
      "execution_count": 0,
      "outputs": []
    },
    {
      "cell_type": "markdown",
      "metadata": {
        "id": "AH-FraCgvK9w",
        "colab_type": "text"
      },
      "source": [
        "**After downloading is finished, install unrar**"
      ]
    },
    {
      "cell_type": "code",
      "metadata": {
        "id": "OfVRCzSHvXM3",
        "colab_type": "code",
        "colab": {}
      },
      "source": [
        "!pip install unrar"
      ],
      "execution_count": 0,
      "outputs": []
    },
    {
      "cell_type": "markdown",
      "metadata": {
        "id": "tpyCIvi3vYhv",
        "colab_type": "text"
      },
      "source": [
        "**Unrar the rar files**"
      ]
    },
    {
      "cell_type": "code",
      "metadata": {
        "id": "D2Tf9l53vbM5",
        "colab_type": "code",
        "colab": {}
      },
      "source": [
        "# !unrar e 'name of rar file / name of first rar file if file is multi-part'\n",
        "\n",
        "# For Example,\n",
        "\n",
        "# !unrar e 'Dunkirk 2017 2160p ITA UHD Blu-ray HEVC DTS-HD MA 5.1-LKS.part001.rar'"
      ],
      "execution_count": 0,
      "outputs": []
    },
    {
      "cell_type": "markdown",
      "metadata": {
        "id": "eF-stq0SvrvL",
        "colab_type": "text"
      },
      "source": [
        "**Install colab utils to push files to drive**"
      ]
    },
    {
      "cell_type": "code",
      "metadata": {
        "id": "AXC0PbwdvwRV",
        "colab_type": "code",
        "colab": {}
      },
      "source": [
        "!git clone https://github.com/RaviSoji/colab_utils.git\n",
        "import colab_utils\n",
        "drive = colab_utils.get_gdrive()"
      ],
      "execution_count": 0,
      "outputs": []
    },
    {
      "cell_type": "markdown",
      "metadata": {
        "id": "SbGC9rUavw8a",
        "colab_type": "text"
      },
      "source": [
        "**Push to drive**"
      ]
    },
    {
      "cell_type": "code",
      "metadata": {
        "id": "J02IATeqvyxK",
        "colab_type": "code",
        "colab": {}
      },
      "source": [
        "# colab_utils.push_to_gdrive(drive, \"path to movie file\", \"folder in gdrive where you want to store\")\n",
        "\n",
        "# For Example,\n",
        "\n",
        "# colab_utils.push_to_gdrive(drive, \"/content/Dunkirk 2017 2160p ITA UHD Blu-ray HEVC DTS-HD MA 5.1-LKS.iso\", \"Torrent\")"
      ],
      "execution_count": 0,
      "outputs": []
    },
    {
      "cell_type": "markdown",
      "metadata": {
        "id": "OIuIrcPfwUl8",
        "colab_type": "text"
      },
      "source": [
        "# **After the above cell of code finishes executing, wait for a little while for your file to show up in your drive**"
      ]
    }
  ]
}
