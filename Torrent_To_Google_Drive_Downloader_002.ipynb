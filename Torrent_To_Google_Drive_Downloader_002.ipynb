{
  "nbformat": 4,
  "nbformat_minor": 0,
  "metadata": {
    "colab": {
      "name": "Torrent_To_Google_Drive_Downloader.ipynb",
      "version": "0.3.2",
      "provenance": [],
      "collapsed_sections": [],
      "toc_visible": true
    },
    "kernelspec": {
      "name": "python3",
      "display_name": "Python 3"
    },
    "accelerator": "GPU"
  },
  "cells": [
    {
      "cell_type": "markdown",
      "metadata": {
        "id": "aQuWDmfm9YOi",
        "colab_type": "text"
      },
      "source": [
        "# GDrive Downloader "
      ]
    },
    {
      "cell_type": "markdown",
      "metadata": {
        "id": "Uf90U73y9YOj",
        "colab_type": "text"
      },
      "source": [
        "### Mount Google Drive\n",
        "To stream files we need to mount Google Drive."
      ]
    },
    {
      "cell_type": "code",
      "metadata": {
        "colab_type": "code",
        "id": "oWM9l2fvtuvO",
        "colab": {}
      },
      "source": [
        "from google.colab import drive\n",
        "drive.mount('/content/drive')"
      ],
      "execution_count": 0,
      "outputs": []
    },
    {
      "cell_type": "markdown",
      "metadata": {
        "id": "NaFa7M-e9YOr",
        "colab_type": "text"
      },
      "source": [
        "## Install requirements"
      ]
    },
    {
      "cell_type": "markdown",
      "metadata": {
        "id": "88NU289cblmf",
        "colab_type": "text"
      },
      "source": [
        "####For DDL"
      ]
    },
    {
      "cell_type": "code",
      "metadata": {
        "id": "rtASPLhQ03SY",
        "colab_type": "code",
        "colab": {}
      },
      "source": [
        "!sudo apt-get install wget"
      ],
      "execution_count": 0,
      "outputs": []
    },
    {
      "cell_type": "markdown",
      "metadata": {
        "id": "-yNqTkt9boCe",
        "colab_type": "text"
      },
      "source": [
        "####For Torrent"
      ]
    },
    {
      "cell_type": "code",
      "metadata": {
        "colab_type": "code",
        "id": "m6hF0emftx4h",
        "colab": {}
      },
      "source": [
        "!apt install python3-libtorrent"
      ],
      "execution_count": 0,
      "outputs": []
    },
    {
      "cell_type": "markdown",
      "metadata": {
        "id": "V8QxhqFqbqRc",
        "colab_type": "text"
      },
      "source": [
        "####For Mega"
      ]
    },
    {
      "cell_type": "code",
      "metadata": {
        "id": "iILHNrPESl_6",
        "colab_type": "code",
        "colab": {}
      },
      "source": [
        "!sudo apt-get install megatools"
      ],
      "execution_count": 0,
      "outputs": []
    },
    {
      "cell_type": "markdown",
      "metadata": {
        "id": "m-a1CUP39YOu",
        "colab_type": "text"
      },
      "source": [
        "## Start Download"
      ]
    },
    {
      "cell_type": "markdown",
      "metadata": {
        "id": "OMYXxj_KEaA1",
        "colab_type": "text"
      },
      "source": [
        "####DDL"
      ]
    },
    {
      "cell_type": "code",
      "metadata": {
        "id": "bxCmBPdPHT1F",
        "colab_type": "code",
        "colab": {}
      },
      "source": [
        "import os\n",
        "import subprocess\n",
        "import re\n",
        "\n",
        "link = input(\"Paste the DDL Link: \")\n",
        "savepath = \"/content/drive/My Drive/Downloads\"\n",
        "\n",
        "name = os.path.basename(link)\n",
        "file = name.split(\"?\", maxsplit=1)[0]\n",
        "filename = re.sub('%20', ' ', file)\n",
        "\n",
        "subprocess.call(\"wget '{}' -O '{}/{}'\".format(link, savepath, filename), shell=True)"
      ],
      "execution_count": 0,
      "outputs": []
    },
    {
      "cell_type": "markdown",
      "metadata": {
        "id": "z6KELt6iSwU6",
        "colab_type": "text"
      },
      "source": [
        "###MEGA (Mega gives 5GB per 8hour)"
      ]
    },
    {
      "cell_type": "code",
      "metadata": {
        "id": "0YHgDaYiMy2Y",
        "colab_type": "code",
        "colab": {}
      },
      "source": [
        "!megadl --path '/content/drive/My Drive/Downloads/Mega/' --proxy '' - ''"
      ],
      "execution_count": 0,
      "outputs": []
    },
    {
      "cell_type": "code",
      "metadata": {
        "id": "XsuQ5aW4cOVd",
        "colab_type": "code",
        "colab": {}
      },
      "source": [
        "import os\n",
        "import subprocess\n",
        "import requests\n",
        "import traceback\n",
        "import time\n",
        "from lxml.html import fromstring\n",
        "from itertools import cycle\n",
        "\n",
        "def get_proxies():\n",
        "  \n",
        "    url = 'https://free-proxy-list.net/'\n",
        "    response = requests.get(url)\n",
        "    parser = fromstring(response.text)\n",
        "    proxies = set()\n",
        "    for i in parser.xpath('//tbody/tr')[:10]:\n",
        "        if i.xpath('.//td[7][contains(text(),\"yes\")]'):\n",
        "            proxy = \":\".join([i.xpath('.//td[1]/text()')[0], i.xpath('.//td[2]/text()')[0]])\n",
        "            proxies.add(proxy)\n",
        "    return proxies\n",
        "\n",
        "\n",
        "user = input(\"Username: \")\n",
        "\n",
        "savepath = \"/content/drive/My Drive/Downloads/Mega/New/\"\n",
        "\n",
        "i = 0\n",
        "\n",
        "def reload():\n",
        "  proxies = get_proxies()\n",
        "  pool = cycle(proxies)\n",
        "  print(proxies)\n",
        "  proxy = next(pool)\n",
        "  \n",
        "  try:\n",
        "    result = subprocess.call(\"megadl --path '{}' --proxy '{}' - '{}'\".format(savepath, proxy, link), shell=True)\n",
        "    print(result)\n",
        "    \n",
        "    if result is 1 :\n",
        "      print(\"Trying proxies again in 10 seconds\")\n",
        "      time.sleep(10)\n",
        "      reload()\n",
        "    \n",
        "    else :\n",
        "      print(\"Done\")\n",
        "  except:\n",
        "    print(\"Error\")\n",
        "    \n",
        "    \n",
        "if user :\n",
        "  \n",
        "  password= input(\"password: \")\n",
        "  remote = input(\"foldername: \")\n",
        "  subprocess.call(\"megaget -u '{}' -p '{} --path '{} '/Root/{}'\".format(user, password, savepath, remote), shell=True)\n",
        "\n",
        "else:\n",
        "  link = input(\"Paste the Mega Public Link: \")\n",
        "  \n",
        "  try:\n",
        "    result = subprocess.call(\"megadl --path '{}' - '{}'\".format(savepath, link), shell=True)\n",
        "    print(result)\n",
        "    \n",
        "    if result is 1 :\n",
        "      print(\"Trying Proxies...\")\n",
        "      reload()\n",
        "    else :\n",
        "      print(\"Done\")\n",
        "  except:\n",
        "    print(\"Error\")"
      ],
      "execution_count": 0,
      "outputs": []
    },
    {
      "cell_type": "markdown",
      "metadata": {
        "id": "L66nNL-iajx9",
        "colab_type": "text"
      },
      "source": [
        "###Torrent"
      ]
    },
    {
      "cell_type": "markdown",
      "metadata": {
        "id": "R5CfqXUchoLl",
        "colab_type": "text"
      },
      "source": [
        "Load Torrent File (if you have magnet link then skip)"
      ]
    },
    {
      "cell_type": "code",
      "metadata": {
        "colab_type": "code",
        "id": "0et2A6N3udA0",
        "colab": {}
      },
      "source": [
        "from google.colab import files\n",
        "uploaded = files.upload()"
      ],
      "execution_count": 0,
      "outputs": []
    },
    {
      "cell_type": "markdown",
      "metadata": {
        "id": "Bf3h1BtdEUAC",
        "colab_type": "text"
      },
      "source": [
        "Torrent Downlad"
      ]
    },
    {
      "cell_type": "code",
      "metadata": {
        "colab_type": "code",
        "id": "DBNoYYoSuDBT",
        "colab": {}
      },
      "source": [
        "import libtorrent as lt\n",
        "import time\n",
        "import sys\n",
        "\n",
        "ses = lt.session()\n",
        "ses.listen_on(6881, 6891)\n",
        "\n",
        "try:\n",
        "  info = lt.torrent_info(list(uploaded.keys())[0])\n",
        "  h = ses.add_torrent({\"ti\": info, \"save_path\": \"/content/drive/My Drive/Torrent\"})\n",
        "  print(\"starting\", h.name())\n",
        "\n",
        "except:\n",
        "  link = input(\"Paste the magnet link: \") \n",
        "  h = lt.add_magnet_uri(ses, link, {\"save_path\": \"/content/drive/My Drive/Torrent\"})\n",
        "  while (not h.has_metadata()):\n",
        "    time.sleep(.1)\n",
        "  info = h.get_torrent_info()\n",
        "  print(\"starting\", h.name())\n",
        "\n",
        "i = 0\n",
        "k = 0\n",
        "p = 0\n",
        "\n",
        "ratio = input(\"Ratio(press enter without input to stop torrent after downloading): \")\n",
        "\n",
        "if ratio:\n",
        "  ratio = float(ratio)\n",
        "  print(\"Torrent will be stopped after acheiving above ratio.\")\n",
        "else:\n",
        "  ratio = 100\n",
        "  timer = input(\"Timer(press enter without input to stop torrent after downloading): \")\n",
        "  if timer:\n",
        "    timer = int(timer)\n",
        "  else:\n",
        "    timer = 60\n",
        "  j = int(timer * 6)\n",
        "\n",
        "while i <= j and k < ratio and p != 1:\n",
        "    \n",
        "    i += 1   \n",
        "    \n",
        "    s = h.status()\n",
        "    \n",
        "    state_str = [\n",
        "        \"queued\",\n",
        "        \"checking\",\n",
        "        \"downloading metadata\",\n",
        "        \"downloading\",\n",
        "        \"finished\",\n",
        "        \"seeding\",\n",
        "        \"allocating\",\n",
        "        \"checking fastresume\",\n",
        "    ]\n",
        "      \n",
        "    print(\n",
        "        \"\\r%.2f%% done (lc: %.2f MB | sd: %.2f MB | dn: %.1f MB/s | up: %.1f MB/s | prs: %d | rto: %.2f) %s\"\n",
        "        % (\n",
        "            s.progress * 100,\n",
        "            s.total_download / 1048576,\n",
        "            s.total_upload / 1048576,\n",
        "            s.download_rate / 1048576,\n",
        "            s.upload_rate / 1048576,\n",
        "            s.num_peers,\n",
        "            s.total_upload / s.total_download,\n",
        "            state_str[s.state],\n",
        "        )\n",
        "    )\n",
        "    if state_str[s.state] is \"seeding\":\n",
        "      print(\"Now Seeding...\")\n",
        "      if s.total_download is 0 :\n",
        "        k = 0\n",
        "      else:\n",
        "        k = int(s.total_upload / s.total_download)\n",
        "      \n",
        "      if ratio is 100 and timer is 60:\n",
        "        p = 1\n",
        "      else:\n",
        "        p = 1\n",
        "    else:\n",
        "      p = 0\n",
        "    \n",
        "    time.sleep(10)\n",
        "\n",
        "print(h.name(), \"complete\")\n",
        "print (i, j, k, ratio, p)\n",
        "rem = input(\"Do you want to remove the torrent from list(Does not delete anything in google drive)?(y/n): \")\n",
        "if rem is 'y':\n",
        "  ses.remove_torrent(h)\n",
        "  print(\"Torrent deleted\")\n",
        "else:\n",
        "  print(\"Torrent not deleted.\")"
      ],
      "execution_count": 0,
      "outputs": []
    }
  ]
}